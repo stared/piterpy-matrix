{
 "cells": [
  {
   "cell_type": "markdown",
   "metadata": {
    "slideshow": {
     "slide_type": "slide"
    }
   },
   "source": [
    "# Matrices and tensors - named, visualized\n",
    "\n",
    "* Piotr Migdał\n",
    "    * founder at [Quantum Flytrap](https://quantumgame.io/) / AI researcher at ECC Games\n",
    "    * [p.migdal.pl](https://p.migdal.pl/), [@pmigdal](https://twitter.com/pmigdal), [github.com/stared](https://github.com/stared)\n",
    "* [PiterPy Online, 3-6 Aug 2020](https://piterpy.com/en)\n",
    "    * [talk link](https://piterpy.com/en/materials/2831#2831)\n",
    "    * [talk source code](https://github.com/stared/piterpy-matrix)"
   ]
  },
  {
   "cell_type": "markdown",
   "metadata": {
    "slideshow": {
     "slide_type": "subslide"
    }
   },
   "source": [
    "## Hi! / Привет!"
   ]
  },
  {
   "cell_type": "markdown",
   "metadata": {
    "slideshow": {
     "slide_type": "notes"
    }
   },
   "source": [
    "## Abstract\n",
    "\n",
    "In data science, we often work with numeric arrays: for signals, images, accounting data - input, output, everything. When we use Pandas (vs raw NumPy) we have named dimensions (rows and columns) plus an easy way to plot the numerical values.\n",
    "In this talk, I will show how to go beyond that - how to name dimensions in 3 and more dimensional arrays for deep learning (with Named Tensors in PyTorch), how to visualize advanced operations in a simple way (using tensor diagrams) and how to plot complex numbers (for quantum computing).\n",
    "I will give examples from two open-source projects I develop: https://github.com/Quantum-Game/bra-ket-vue and https://github.com/stared/pytorch-named-dims.\n",
    "\n",
    "## Bio\n",
    "\n",
    "Piotr Migdal\n",
    "\n",
    "A deep learning specialist with a Ph.D. in quantum physics (from ICFO, Castelldefels).\n",
    "He works on AI for content design and physics engine optimization in ECC Games, and develops Quantum Game with Photons - an open-source in-browser game with real quantum mechanics.\n",
    "Piotr enjoys explaining complicated things in simple ways, ideally with interactive data visualizations. He develops livelossplot - a Python package for visualizing the training process in Jupyter Notebook.\n",
    "\n",
    "## PiterPy 2018\n",
    "\n",
    "[Learning neural networks within Jupyter Notebook](https://github.com/stared/keras-interactively-piterpy2018)"
   ]
  },
  {
   "cell_type": "markdown",
   "metadata": {
    "slideshow": {
     "slide_type": "slide"
    }
   },
   "source": [
    "## What is the matrix?"
   ]
  },
  {
   "cell_type": "markdown",
   "metadata": {
    "slideshow": {
     "slide_type": "fragment"
    }
   },
   "source": [
    "> *“The Matrix is everywhere. It's all around us,”* he explains to Neo.\n",
    "\n",
    "<img src=\"imgs/matrix_rain_2.png\" alt=\"Matrix rain of symbols\" style=\"width: 80%;\"/>"
   ]
  },
  {
   "cell_type": "markdown",
   "metadata": {
    "slideshow": {
     "slide_type": "fragment"
    }
   },
   "source": [
    "**In plain English?** Well, it is a table with numbers."
   ]
  },
  {
   "cell_type": "markdown",
   "metadata": {
    "slideshow": {
     "slide_type": "slide"
    }
   },
   "source": [
    "## Outline\n",
    "\n",
    "(warning: spoilers)\n",
    "\n",
    "* Pure Python -> NumPy -> Pandas\n",
    "* Some cool visualizations\n",
    "* Descent into deep learning\n",
    "* A pinch of quantum\n",
    "* Applause (or awkward silence)"
   ]
  },
  {
   "cell_type": "code",
   "execution_count": null,
   "metadata": {
    "slideshow": {
     "slide_type": "subslide"
    }
   },
   "outputs": [],
   "source": [
    "%%html\n",
    "<blockquote class=\"twitter-tweet\"><p lang=\"en\" dir=\"ltr\">One (of many) amusing socially awkward remote conference call interactions is when the speaker makes a joke. Everyone is mutated so it seems like it awkwardly falls flat, and noone wants to unmute just to say &quot;haha&quot;. Calls still need many more features to bridge the real life gap</p>&mdash; Andrej Karpathy (@karpathy) <a href=\"https://twitter.com/karpathy/status/1261345026119921664?ref_src=twsrc%5Etfw\">May 15, 2020</a></blockquote> <script async src=\"https://platform.twitter.com/widgets.js\" charset=\"utf-8\"></script>"
   ]
  },
  {
   "cell_type": "markdown",
   "metadata": {
    "slideshow": {
     "slide_type": "notes"
    }
   },
   "source": [
    "I hope that you learn a tool or two, and how to approach "
   ]
  },
  {
   "cell_type": "markdown",
   "metadata": {
    "slideshow": {
     "slide_type": "slide"
    }
   },
   "source": [
    "## Pure Python\n",
    "\n",
    "Does Python have support for matrices?"
   ]
  },
  {
   "cell_type": "code",
   "execution_count": null,
   "metadata": {
    "ExecuteTime": {
     "end_time": "2020-07-28T17:14:15.007023Z",
     "start_time": "2020-07-28T17:14:15.003039Z"
    },
    "slideshow": {
     "slide_type": "fragment"
    }
   },
   "outputs": [],
   "source": [
    "lol = [[1., 3., -1., 0.5, 2., 0.],\n",
    "       [4., 0., 2.5, -4., 2., 1.],\n",
    "       [1., 1., -1., 2, 2., 0.]]"
   ]
  },
  {
   "cell_type": "markdown",
   "metadata": {},
   "source": [
    "`lol` stands for a list of lists. Nothing to laugh about."
   ]
  },
  {
   "cell_type": "code",
   "execution_count": null,
   "metadata": {
    "ExecuteTime": {
     "end_time": "2020-07-28T17:14:15.016343Z",
     "start_time": "2020-07-28T17:14:15.008924Z"
    },
    "slideshow": {
     "slide_type": "subslide"
    }
   },
   "outputs": [],
   "source": [
    "# element\n",
    "lol[1][3]"
   ]
  },
  {
   "cell_type": "code",
   "execution_count": null,
   "metadata": {
    "ExecuteTime": {
     "end_time": "2020-07-28T17:14:15.023067Z",
     "start_time": "2020-07-28T17:14:15.018560Z"
    }
   },
   "outputs": [],
   "source": [
    "# row\n",
    "lol[2]"
   ]
  },
  {
   "cell_type": "code",
   "execution_count": null,
   "metadata": {
    "ExecuteTime": {
     "end_time": "2020-07-28T17:14:15.029082Z",
     "start_time": "2020-07-28T17:14:15.025044Z"
    }
   },
   "outputs": [],
   "source": [
    "# column\n",
    "[row[2] for row in lol]"
   ]
  },
  {
   "cell_type": "markdown",
   "metadata": {
    "slideshow": {
     "slide_type": "subslide"
    }
   },
   "source": [
    "### So\n",
    "\n",
    "* You can use it\n",
    "* But you shouldn't"
   ]
  },
  {
   "cell_type": "markdown",
   "metadata": {
    "slideshow": {
     "slide_type": "fragment"
    }
   },
   "source": [
    "### Because\n",
    "\n",
    "* Slow\n",
    "* No easy way for typical operations\n",
    "* No checks on numeric types\n",
    "* Or even if it is a table or not"
   ]
  },
  {
   "cell_type": "markdown",
   "metadata": {
    "slideshow": {
     "slide_type": "slide"
    }
   },
   "source": [
    "## NumPy\n",
    "\n",
    "Or **the** numerics backbone for Python."
   ]
  },
  {
   "cell_type": "code",
   "execution_count": null,
   "metadata": {
    "ExecuteTime": {
     "end_time": "2020-07-28T17:14:15.036761Z",
     "start_time": "2020-07-28T17:14:15.032321Z"
    }
   },
   "outputs": [],
   "source": [
    "import numpy as np\n",
    "\n",
    "arr = np.array(lol)\n",
    "arr"
   ]
  },
  {
   "cell_type": "code",
   "execution_count": null,
   "metadata": {
    "ExecuteTime": {
     "end_time": "2020-07-28T17:14:15.042129Z",
     "start_time": "2020-07-28T17:14:15.039105Z"
    },
    "slideshow": {
     "slide_type": "subslide"
    }
   },
   "outputs": [],
   "source": [
    "# element\n",
    "arr[1,3]"
   ]
  },
  {
   "cell_type": "code",
   "execution_count": null,
   "metadata": {
    "ExecuteTime": {
     "end_time": "2020-07-28T17:14:15.047855Z",
     "start_time": "2020-07-28T17:14:15.043556Z"
    }
   },
   "outputs": [],
   "source": [
    "# row\n",
    "arr[1]"
   ]
  },
  {
   "cell_type": "code",
   "execution_count": null,
   "metadata": {
    "ExecuteTime": {
     "end_time": "2020-07-28T17:14:15.053203Z",
     "start_time": "2020-07-28T17:14:15.049448Z"
    }
   },
   "outputs": [],
   "source": [
    "# columns\n",
    "arr[:, 1]"
   ]
  },
  {
   "cell_type": "code",
   "execution_count": null,
   "metadata": {
    "ExecuteTime": {
     "end_time": "2020-07-28T17:14:15.058837Z",
     "start_time": "2020-07-28T17:14:15.054819Z"
    }
   },
   "outputs": [],
   "source": [
    "# operations\n",
    "arr[2] - arr[0]"
   ]
  },
  {
   "cell_type": "code",
   "execution_count": null,
   "metadata": {
    "ExecuteTime": {
     "end_time": "2020-07-28T17:14:15.063904Z",
     "start_time": "2020-07-28T17:14:15.060877Z"
    }
   },
   "outputs": [],
   "source": [
    "# type\n",
    "arr.dtype"
   ]
  },
  {
   "cell_type": "markdown",
   "metadata": {
    "slideshow": {
     "slide_type": "subslide"
    }
   },
   "source": [
    "### Good parts\n",
    "\n",
    "* Fast (don't ever believe \"but C++\")\n",
    "* A lot of numeric features (using `scipy`)"
   ]
  },
  {
   "cell_type": "markdown",
   "metadata": {
    "slideshow": {
     "slide_type": "fragment"
    }
   },
   "source": [
    "### But \n",
    "\n",
    "* What the hell the columns mean?!"
   ]
  },
  {
   "cell_type": "markdown",
   "metadata": {
    "slideshow": {
     "slide_type": "slide"
    }
   },
   "source": [
    "## Pandas\n",
    "\n",
    "(Note to oneself: resist any **pand**emia puns!)"
   ]
  },
  {
   "cell_type": "code",
   "execution_count": null,
   "metadata": {
    "ExecuteTime": {
     "end_time": "2020-07-28T17:14:15.079044Z",
     "start_time": "2020-07-28T17:14:15.066010Z"
    }
   },
   "outputs": [],
   "source": [
    "import pandas as pd\n",
    "\n",
    "df = pd.DataFrame(arr,\n",
    "                  index=['Sasha', 'Alex', 'Kim'],\n",
    "                  columns=['sweet', 'sour', 'salty', 'bitter', 'spicy', 'sugar'])\n",
    "df "
   ]
  },
  {
   "cell_type": "code",
   "execution_count": null,
   "metadata": {
    "slideshow": {
     "slide_type": "subslide"
    }
   },
   "outputs": [],
   "source": [
    "df.loc['Alex'].mean()"
   ]
  },
  {
   "cell_type": "code",
   "execution_count": null,
   "metadata": {
    "ExecuteTime": {
     "end_time": "2020-07-28T17:14:15.085365Z",
     "start_time": "2020-07-28T17:14:15.081062Z"
    },
    "slideshow": {
     "slide_type": "-"
    }
   },
   "outputs": [],
   "source": [
    "df.loc['Alex', 'sweet']"
   ]
  },
  {
   "cell_type": "code",
   "execution_count": null,
   "metadata": {
    "ExecuteTime": {
     "end_time": "2020-07-28T17:14:15.093260Z",
     "start_time": "2020-07-28T17:14:15.087469Z"
    }
   },
   "outputs": [],
   "source": [
    "df.loc[:, 'sweet']"
   ]
  },
  {
   "cell_type": "code",
   "execution_count": null,
   "metadata": {},
   "outputs": [],
   "source": [
    "df.sweet"
   ]
  },
  {
   "cell_type": "code",
   "execution_count": null,
   "metadata": {
    "slideshow": {
     "slide_type": "notes"
    }
   },
   "outputs": [],
   "source": [
    "# change to\n",
    "df.sweet - df.bitter"
   ]
  },
  {
   "cell_type": "markdown",
   "metadata": {
    "slideshow": {
     "slide_type": "slide"
    }
   },
   "source": [
    "### Do we need anything more?"
   ]
  },
  {
   "cell_type": "markdown",
   "metadata": {
    "slideshow": {
     "slide_type": "-"
    }
   },
   "source": [
    "#### Hint\n",
    "\n",
    "> You think you own whatever data you loaded  \n",
    "The Matrix is just a dead thing you can claim  \n",
    "But I know every frame and row and column  \n",
    "Has a type, has an API, has a name  "
   ]
  },
  {
   "cell_type": "markdown",
   "metadata": {
    "slideshow": {
     "slide_type": "fragment"
    }
   },
   "source": [
    "#### Answer\n",
    "\n",
    "**Colors** (of the wind)!"
   ]
  },
  {
   "cell_type": "markdown",
   "metadata": {
    "slideshow": {
     "slide_type": "slide"
    }
   },
   "source": [
    "## Seaborn"
   ]
  },
  {
   "cell_type": "code",
   "execution_count": null,
   "metadata": {
    "ExecuteTime": {
     "end_time": "2020-07-28T22:01:48.780242Z",
     "start_time": "2020-07-28T22:01:45.717395Z"
    }
   },
   "outputs": [],
   "source": [
    "import seaborn as sns\n",
    "\n",
    "sns.heatmap(df, cmap='coolwarm');"
   ]
  },
  {
   "cell_type": "code",
   "execution_count": null,
   "metadata": {
    "ExecuteTime": {
     "end_time": "2020-07-28T22:02:54.835769Z",
     "start_time": "2020-07-28T22:02:54.628208Z"
    },
    "slideshow": {
     "slide_type": "fragment"
    }
   },
   "outputs": [],
   "source": [
    "sns.heatmap(df, cmap='coolwarm', annot=True);"
   ]
  },
  {
   "cell_type": "code",
   "execution_count": null,
   "metadata": {
    "ExecuteTime": {
     "end_time": "2020-07-28T22:11:36.502985Z",
     "start_time": "2020-07-28T22:11:36.123547Z"
    },
    "slideshow": {
     "slide_type": "subslide"
    }
   },
   "outputs": [],
   "source": [
    "sns.clustermap(df, cmap='coolwarm', annot=True);"
   ]
  },
  {
   "cell_type": "markdown",
   "metadata": {
    "slideshow": {
     "slide_type": "slide"
    }
   },
   "source": [
    "## Or even interactively\n",
    "\n",
    "Using [clustergrammer](https://clustergrammer.readthedocs.io/)."
   ]
  },
  {
   "cell_type": "code",
   "execution_count": null,
   "metadata": {
    "ExecuteTime": {
     "end_time": "2020-07-28T22:41:57.636283Z",
     "start_time": "2020-07-28T22:41:57.632918Z"
    },
    "scrolled": true
   },
   "outputs": [],
   "source": [
    "from clustergrammer2 import Network, CGM2\n",
    "\n",
    "net = Network(CGM2)\n",
    "net.load_df(df)"
   ]
  },
  {
   "cell_type": "code",
   "execution_count": null,
   "metadata": {
    "slideshow": {
     "slide_type": "subslide"
    }
   },
   "outputs": [],
   "source": [
    "net.widget()"
   ]
  },
  {
   "cell_type": "markdown",
   "metadata": {
    "slideshow": {
     "slide_type": "slide"
    }
   },
   "source": [
    "## So, we are done?\n",
    "\n"
   ]
  },
  {
   "cell_type": "markdown",
   "metadata": {
    "slideshow": {
     "slide_type": "fragment"
    }
   },
   "source": [
    "<img src=\"imgs/tensor_chaos.png\" alt=\"Matrix rain of symbols\" style=\"width: 80%;\"/>"
   ]
  },
  {
   "cell_type": "markdown",
   "metadata": {
    "slideshow": {
     "slide_type": "subslide"
    }
   },
   "source": [
    "### OK, but do we actually need it?\n",
    "\n",
    "(except for some super-advanced physics)"
   ]
  },
  {
   "cell_type": "markdown",
   "metadata": {
    "slideshow": {
     "slide_type": "fragment"
    }
   },
   "source": [
    "Yes, for colors! RGB(A) channels.\n",
    "\n",
    "* width, height, channel"
   ]
  },
  {
   "cell_type": "markdown",
   "metadata": {
    "slideshow": {
     "slide_type": "fragment"
    }
   },
   "source": [
    "In deep learning, we process a few images at the same time:\n",
    "\n",
    "* sample, height, width, channel"
   ]
  },
  {
   "cell_type": "markdown",
   "metadata": {
    "slideshow": {
     "slide_type": "fragment"
    }
   },
   "source": [
    "* sample, channel, height, width\n",
    "* sample, channel, width, height\n",
    "* ???"
   ]
  },
  {
   "cell_type": "markdown",
   "metadata": {
    "slideshow": {
     "slide_type": "slide"
    }
   },
   "source": [
    "## So, let's memorize that!\n",
    "\n",
    "Well, for sure we can learn the order of dimensions. Practice makes perfect!"
   ]
  },
  {
   "cell_type": "markdown",
   "metadata": {
    "slideshow": {
     "slide_type": "subslide"
    }
   },
   "source": [
    "Then see it:\n",
    "\n",
    "* OpenCV: `HWC` / `HW`\n",
    "* Pillow:  `HWC` / `HW`\n",
    "* Matplotlib: `HWC` / `HW`\n",
    "* Theano: `NCHW`\n",
    "* TensorFlow: `NHWC`\n",
    "* PyTorch: `NCHW`\n",
    "\n",
    "Is it only me, or does the **Theano tensor dimension order** sounds like some secret convent?"
   ]
  },
  {
   "cell_type": "markdown",
   "metadata": {
    "slideshow": {
     "slide_type": "slide"
    }
   },
   "source": [
    "## Tensors in PyTorch\n",
    "\n",
    "Full disclaimer: I love PyTorch."
   ]
  },
  {
   "cell_type": "code",
   "execution_count": null,
   "metadata": {
    "slideshow": {
     "slide_type": "-"
    }
   },
   "outputs": [],
   "source": [
    "import torch\n",
    "\n",
    "x = torch.tensor([[\n",
    "    [[1., 0., 1.],\n",
    "     [0., 1., 0.],\n",
    "     [1., 0., 1.]],\n",
    "    [[0., 1., 0.],\n",
    "     [1., 1., 1.],\n",
    "     [0., 1., 0.]],\n",
    "    [[1., 1., 1.],\n",
    "     [1., 0., 1.],\n",
    "     [1., 1., 1.]],\n",
    "]])"
   ]
  },
  {
   "cell_type": "code",
   "execution_count": null,
   "metadata": {
    "slideshow": {
     "slide_type": "subslide"
    }
   },
   "outputs": [],
   "source": [
    "x"
   ]
  },
  {
   "cell_type": "code",
   "execution_count": null,
   "metadata": {
    "slideshow": {
     "slide_type": "-"
    }
   },
   "outputs": [],
   "source": [
    "x.dtype"
   ]
  },
  {
   "cell_type": "code",
   "execution_count": null,
   "metadata": {
    "slideshow": {
     "slide_type": "-"
    }
   },
   "outputs": [],
   "source": [
    "x.size()"
   ]
  },
  {
   "cell_type": "code",
   "execution_count": null,
   "metadata": {
    "slideshow": {
     "slide_type": "-"
    }
   },
   "outputs": [],
   "source": [
    "x.mean(1)"
   ]
  },
  {
   "cell_type": "markdown",
   "metadata": {
    "slideshow": {
     "slide_type": "slide"
    }
   },
   "source": [
    "## Named tensors\n",
    "\n",
    "Starting from `PyTorch 1.4.0`, there is [support for dimension names in tensors](https://pytorch.org/docs/stable/named_tensor.html).\n",
    "\n",
    "However, still at `PyTorch 1.6.0` it is an experimental feature."
   ]
  },
  {
   "cell_type": "code",
   "execution_count": null,
   "metadata": {
    "slideshow": {
     "slide_type": "slide"
    }
   },
   "outputs": [],
   "source": [
    "x = x.rename('N', 'C', 'H', 'W')\n",
    "x"
   ]
  },
  {
   "cell_type": "code",
   "execution_count": null,
   "metadata": {
    "slideshow": {
     "slide_type": "subslide"
    }
   },
   "outputs": [],
   "source": [
    "x.mean('C')"
   ]
  },
  {
   "cell_type": "code",
   "execution_count": null,
   "metadata": {
    "slideshow": {
     "slide_type": "fragment"
    }
   },
   "outputs": [],
   "source": [
    "x.mean(('H', 'W'))"
   ]
  },
  {
   "cell_type": "code",
   "execution_count": null,
   "metadata": {
    "slideshow": {
     "slide_type": "fragment"
    }
   },
   "outputs": [],
   "source": [
    "x.transpose('H', 'W')"
   ]
  },
  {
   "cell_type": "code",
   "execution_count": null,
   "metadata": {
    "slideshow": {
     "slide_type": "fragment"
    }
   },
   "outputs": [],
   "source": [
    "x.flatten(['C', 'H', 'W'], 'features')"
   ]
  },
  {
   "cell_type": "code",
   "execution_count": null,
   "metadata": {
    "slideshow": {
     "slide_type": "subslide"
    }
   },
   "outputs": [],
   "source": [
    "m1 = torch.tensor([[1., 2.], [3., 4.]], names=('H', 'W'))\n",
    "m2 = torch.tensor([[0, 1.], [1., 0.]], names=('W', 'H'))"
   ]
  },
  {
   "cell_type": "code",
   "execution_count": null,
   "metadata": {
    "slideshow": {
     "slide_type": "fragment"
    }
   },
   "outputs": [],
   "source": [
    "m1 + m2"
   ]
  },
  {
   "cell_type": "code",
   "execution_count": null,
   "metadata": {
    "slideshow": {
     "slide_type": "notes"
    }
   },
   "outputs": [],
   "source": [
    "# We can fix that!\n",
    "m1 + m2.transpose('W', 'H')"
   ]
  },
  {
   "cell_type": "markdown",
   "metadata": {
    "slideshow": {
     "slide_type": "slide"
    }
   },
   "source": [
    "## Awesome! Let's use the names in neural networks!"
   ]
  },
  {
   "cell_type": "code",
   "execution_count": null,
   "metadata": {},
   "outputs": [],
   "source": [
    "from torch import nn"
   ]
  },
  {
   "cell_type": "code",
   "execution_count": null,
   "metadata": {
    "slideshow": {
     "slide_type": "-"
    }
   },
   "outputs": [],
   "source": [
    "x_input =  torch.rand((4, 4), names=('N', 'C'))\n",
    "x_input"
   ]
  },
  {
   "cell_type": "code",
   "execution_count": null,
   "metadata": {
    "slideshow": {
     "slide_type": "fragment"
    }
   },
   "outputs": [],
   "source": [
    "# a dense (fully-connected) layer\n",
    "fc = nn.Linear(in_features=4, out_features=2)\n",
    "fc(x_input)"
   ]
  },
  {
   "cell_type": "markdown",
   "metadata": {
    "slideshow": {
     "slide_type": "subslide"
    }
   },
   "source": [
    "It only sort of works. And it gets worse."
   ]
  },
  {
   "cell_type": "code",
   "execution_count": null,
   "metadata": {},
   "outputs": [],
   "source": [
    "x_input_2d =  torch.rand((4, 3, 4, 4), names=('N', 'C', 'H', 'W'))\n",
    "conv = nn.Conv2d(in_channels=3, out_channels=2, kernel_size=3)\n",
    "conv(x_input_2d)"
   ]
  },
  {
   "cell_type": "markdown",
   "metadata": {
    "slideshow": {
     "slide_type": "subslide"
    }
   },
   "source": [
    "> RuntimeError: aten::mkldnn_convolution is not yet supported with named tensors. Please drop names via `tensor = tensor.rename(None)`, call the op with an unnamed tensor, and set names on the result of the operation.\n",
    "            \n",
    "#### My first response\n",
    "\n",
    "😞\n",
    "\n",
    "#### My second response\n",
    "\n",
    "What, there is an instruction how to solve it!"
   ]
  },
  {
   "cell_type": "markdown",
   "metadata": {
    "slideshow": {
     "slide_type": "slide"
    }
   },
   "source": [
    "## Named neural networks\n",
    "\n",
    "A very experimental package: [github.com/stared/pytorch-named-dims](https://github.com/stared/pytorch-named-dims) by Bartłomiej Olechno and me, from ECC Games.\n",
    "\n",
    "Inspired by:\n",
    "\n",
    "* [Quantum Tensors JS](https://github.com/Quantum-Game/quantum-tensors) by Piotr Migdał\n",
    "* [Tensor Considered Harmful](http://nlp.seas.harvard.edu/NamedTensor) by Alexander Rush\n",
    "\n",
    "Not yet on PyPI, but you can install directly from the repo:\n",
    "\n",
    "`pip install git+git://github.com/stared/pytorch-named-dims.git`"
   ]
  },
  {
   "cell_type": "code",
   "execution_count": null,
   "metadata": {
    "slideshow": {
     "slide_type": "subslide"
    }
   },
   "outputs": [],
   "source": [
    "import torch\n",
    "from torch import nn\n",
    "from pytorch_named_dims import nm\n",
    "\n",
    "convs = nn.Sequential(\n",
    "    nm.Conv2d(3, 5, kernel_size=3, padding=1),\n",
    "    nn.ReLU(),  # preserves dims on its own\n",
    "    nm.MaxPool2d(2, 2),\n",
    "    nm.Conv2d(5, 2, kernel_size=3, padding=1)\n",
    ")"
   ]
  },
  {
   "cell_type": "code",
   "execution_count": null,
   "metadata": {
    "slideshow": {
     "slide_type": "fragment"
    }
   },
   "outputs": [],
   "source": [
    "x = torch.rand((2, 3, 2, 2), names=('N', 'C', 'H', 'W'))\n",
    "convs(x)"
   ]
  },
  {
   "cell_type": "code",
   "execution_count": null,
   "metadata": {
    "slideshow": {
     "slide_type": "subslide"
    }
   },
   "outputs": [],
   "source": [
    "x = torch.rand((2, 3, 2, 2), names=('N', 'C', 'W', 'H'))\n",
    "convs(x)"
   ]
  },
  {
   "cell_type": "markdown",
   "metadata": {
    "slideshow": {
     "slide_type": "subslide"
    }
   },
   "source": [
    "Still, it is as permissive and accepting as Python! 🐍❤️"
   ]
  },
  {
   "cell_type": "code",
   "execution_count": null,
   "metadata": {},
   "outputs": [],
   "source": [
    "x = torch.rand((2, 3, 2, 2), names=('N', 'C', None, None))\n",
    "convs(x)"
   ]
  },
  {
   "cell_type": "markdown",
   "metadata": {
    "slideshow": {
     "slide_type": "slide"
    }
   },
   "source": [
    "## Quantum mechanics\n",
    "\n",
    "Deep learning (so called \"AI\") is difficult?\n",
    "\n",
    "Let's try quantum mechanics!\n",
    "\n",
    "It is not thaaat bad - see [Quantum mechanics for high-school students](https://p.migdal.pl/2016/08/15/quantum-mechanics-for-high-school-students.html) and play the [Quantum Game with Photons](https://quantumgame.io/)."
   ]
  },
  {
   "cell_type": "markdown",
   "metadata": {
    "slideshow": {
     "slide_type": "subslide"
    }
   },
   "source": [
    "In quantum mechanics, we\n",
    "\n",
    "* use complex numbers,\n",
    "* there are as many dimensions as particles,\n",
    "* for operations - twice as much."
   ]
  },
  {
   "cell_type": "code",
   "execution_count": null,
   "metadata": {},
   "outputs": [],
   "source": [
    "# BTW: complex numbers are even in plain Python\n",
    "(1 - 2j) * (3 + 1j)"
   ]
  },
  {
   "cell_type": "markdown",
   "metadata": {
    "slideshow": {
     "slide_type": "subslide"
    }
   },
   "source": [
    "## QuTiP\n",
    "\n",
    "[QuTiP: Quantum Toolbox in Python](http://qutip.org/), perhaps the easiest way to approach quantum mechanics with Python.\n",
    "\n",
    "A few examples of [Qubism visualizations](https://nbviewer.jupyter.org/github/qutip/qutip-notebooks/blob/master/examples/qubism-and-schmidt-plots.ipynb) to show quantum states, based on **Qubism: self-similar visualization of many-body wavefunctions**, New J. Phys. 14 053028 (2012)."
   ]
  },
  {
   "cell_type": "code",
   "execution_count": null,
   "metadata": {
    "slideshow": {
     "slide_type": "subslide"
    }
   },
   "outputs": [],
   "source": [
    "from qutip import ket, plot_schmidt\n",
    "singlet = (ket('01') - ket('10')).unit()\n",
    "plot_schmidt(singlet, figsize=(3, 3));"
   ]
  },
  {
   "cell_type": "code",
   "execution_count": null,
   "metadata": {
    "slideshow": {
     "slide_type": "fragment"
    }
   },
   "outputs": [],
   "source": [
    "separable = (ket('01') - ket('00')).unit()\n",
    "plot_schmidt(separable, figsize=(3, 3));"
   ]
  },
  {
   "cell_type": "code",
   "execution_count": null,
   "metadata": {
    "slideshow": {
     "slide_type": "subslide"
    }
   },
   "outputs": [],
   "source": [
    "ghz4 = (ket('0000') + ket('1111')).unit()\n",
    "plot_schmidt(ghz4, figsize=(4, 4));"
   ]
  },
  {
   "cell_type": "code",
   "execution_count": null,
   "metadata": {
    "slideshow": {
     "slide_type": "fragment"
    }
   },
   "outputs": [],
   "source": [
    "state = (ket('0101') + ket('1011')).unit()\n",
    "plot_schmidt(state, figsize=(4, 4));"
   ]
  },
  {
   "cell_type": "markdown",
   "metadata": {
    "slideshow": {
     "slide_type": "slide"
    }
   },
   "source": [
    "##  Bra Ket Vue  `⟨𝜑|𝜓⟩.vue`\n",
    "\n",
    "\n",
    "[Bra Ket Vue](https://github.com/Quantum-Game/bra-ket-vue) a Vue-based visualization of quantum states and operations. \n",
    "\n",
    "A very new one - we released that with Klem Jankiewicz this May!"
   ]
  },
  {
   "cell_type": "markdown",
   "metadata": {
    "slideshow": {
     "slide_type": "subslide"
    }
   },
   "source": [
    "This slide is intentionally empty. \n",
    "\n",
    "Tried to use JavaScript code in Jupyter, but I failed (again)."
   ]
  },
  {
   "cell_type": "markdown",
   "metadata": {
    "slideshow": {
     "slide_type": "subslide"
    }
   },
   "source": [
    "Instead: I will use [JSFiddle](https://jsfiddle.net/user/fiddles/all/)."
   ]
  },
  {
   "cell_type": "code",
   "execution_count": null,
   "metadata": {
    "slideshow": {
     "slide_type": "-"
    }
   },
   "outputs": [],
   "source": [
    "%%html\n",
    "<script async src=\"//jsfiddle.net/stared/57b231yu/embed/\"></script>"
   ]
  },
  {
   "cell_type": "code",
   "execution_count": null,
   "metadata": {
    "slideshow": {
     "slide_type": "subslide"
    }
   },
   "outputs": [],
   "source": [
    "%%html\n",
    "<script async src=\"//jsfiddle.net/stared/kc0de19n/embed/\"></script>"
   ]
  },
  {
   "cell_type": "code",
   "execution_count": null,
   "metadata": {
    "slideshow": {
     "slide_type": "subslide"
    }
   },
   "outputs": [],
   "source": [
    "%%html\n",
    "<script async src=\"//jsfiddle.net/stared/0t3beofr/embed/\"></script>"
   ]
  },
  {
   "cell_type": "code",
   "execution_count": null,
   "metadata": {
    "slideshow": {
     "slide_type": "subslide"
    }
   },
   "outputs": [],
   "source": [
    "%%html\n",
    "<script async src=\"//jsfiddle.net/stared/Lx7fn2r1/embed/\"></script>"
   ]
  },
  {
   "cell_type": "code",
   "execution_count": null,
   "metadata": {
    "slideshow": {
     "slide_type": "subslide"
    }
   },
   "outputs": [],
   "source": [
    "%%html\n",
    "<script async src=\"//jsfiddle.net/stared/ryux9pcw/embed/\"></script>"
   ]
  },
  {
   "cell_type": "markdown",
   "metadata": {
    "slideshow": {
     "slide_type": "slide"
    }
   },
   "source": [
    "## Thanks!  Спасибо!\n",
    "\n",
    "[p.migdal.pl](https://p.migdal.pl/), [@pmigdal](https://twitter.com/pmigdal), [github.com/stared](https://github.com/stared)\n",
    "\n",
    "* training neural networks? use [livelossplot](https://github.com/stared/livelossplot/) for interactive charts (over 170k downloads!)\n",
    "* tensors in JavaScript and their vis: [github.com/Quantum-Game](https://github.com/Quantum-Game)\n",
    "* from Zen of Python and Jupyter Notebook to TypeScript and tests: [How I Learned to Stop Worrying and Love the Types & Tests](https://p.migdal.pl/2020/03/02/types-tests-typescript.html)\n",
    "* [BraKetVue in Distill RMarkdown](https://p.migdal.pl/bra-ket-vue-art/)\n",
    "* interactive slides created with [Jupyter Notebook & RISE](https://github.com/damianavila/RISE)"
   ]
  },
  {
   "cell_type": "code",
   "execution_count": null,
   "metadata": {},
   "outputs": [],
   "source": []
  }
 ],
 "metadata": {
  "celltoolbar": "Slideshow",
  "kernelspec": {
   "display_name": "Python 3",
   "language": "python",
   "name": "python3"
  },
  "language_info": {
   "codemirror_mode": {
    "name": "ipython",
    "version": 3
   },
   "file_extension": ".py",
   "mimetype": "text/x-python",
   "name": "python",
   "nbconvert_exporter": "python",
   "pygments_lexer": "ipython3",
   "version": "3.7.6"
  }
 },
 "nbformat": 4,
 "nbformat_minor": 4
}
