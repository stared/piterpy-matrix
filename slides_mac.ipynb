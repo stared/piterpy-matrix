{
 "cells": [
  {
   "cell_type": "markdown",
   "metadata": {
    "slideshow": {
     "slide_type": "slide"
    }
   },
   "source": [
    "# Matrices and tensors - named, visualized\n",
    "\n",
    "* Piotr Migdał\n",
    "    * founder at [Quantum Flytrap](https://quantumgame.io/) / AI researcher at ECC Games\n",
    "    * [p.migdal.pl](https://p.migdal.pl/), Twitter: [@pmigdal](https://twitter.com/pmigdal), [github.com/stared](https://github.com/stared)\n",
    "* [PiterPy Online, 3-6 Aug 2020](https://piterpy.com/en)\n",
    "    * [talk link](https://piterpy.com/en/materials/2831#2831)\n",
    "    * [talk source code](https://github.com/stared/piterpy-matrix)"
   ]
  },
  {
   "cell_type": "markdown",
   "metadata": {
    "slideshow": {
     "slide_type": "fragment"
    }
   },
   "source": [
    "## Hi! / привет!"
   ]
  },
  {
   "cell_type": "markdown",
   "metadata": {
    "slideshow": {
     "slide_type": "notes"
    }
   },
   "source": [
    "## Abstract\n",
    "\n",
    "In data science, we often work with numeric arrays: for signals, images, accounting data - input, output, everything. When we use Pandas (vs raw NumPy) we have named dimensions (rows and columns) plus an easy way to plot the numerical values.\n",
    "In this talk, I will show how to go beyond that - how to name dimensions in 3 and more dimensional arrays for deep learning (with Named Tensors in PyTorch), how to visualize advanced operations in a simple way (using tensor diagrams) and how to plot complex numbers (for quantum computing).\n",
    "I will give examples from two open-source projects I develop: https://github.com/Quantum-Game/bra-ket-vue and https://github.com/stared/pytorch-named-dims.\n",
    "\n",
    "## Bio\n",
    "\n",
    "Piotr Migdal\n",
    "\n",
    "A deep learning specialist with a Ph.D. in quantum physics (from ICFO, Castelldefels).\n",
    "He works on AI for content design and physics engine optimization in ECC Games, and develops Quantum Game with Photons - an open-source in-browser game with real quantum mechanics.\n",
    "Piotr enjoys explaining complicated things in simple ways, ideally with interactive data visualizations. He develops livelossplot - a Python package for visualizing the training process in Jupyter Notebook."
   ]
  },
  {
   "cell_type": "code",
   "execution_count": null,
   "metadata": {
    "ExecuteTime": {
     "end_time": "2020-07-28T17:14:15.001153Z",
     "start_time": "2020-07-28T17:14:14.467848Z"
    }
   },
   "outputs": [],
   "source": [
    "import numpy\n",
    "import pandas\n",
    "print(numpy.__version__)\n",
    "print(pandas.__version__)"
   ]
  },
  {
   "cell_type": "markdown",
   "metadata": {
    "slideshow": {
     "slide_type": "slide"
    }
   },
   "source": [
    "## What is the matrix?"
   ]
  },
  {
   "cell_type": "markdown",
   "metadata": {
    "slideshow": {
     "slide_type": "fragment"
    }
   },
   "source": [
    "> *“The Matrix is everywhere. It's all around us,”* he explains to Neo.\n",
    "\n",
    "<img src=\"imgs/matrix_rain_2.png\" alt=\"Matrix rain of symbols\" style=\"width: 80%;\"/>"
   ]
  },
  {
   "cell_type": "markdown",
   "metadata": {
    "slideshow": {
     "slide_type": "fragment"
    }
   },
   "source": [
    "* In plain English?\n",
    "* Well, it is a table with numbers."
   ]
  },
  {
   "cell_type": "markdown",
   "metadata": {
    "slideshow": {
     "slide_type": "slide"
    }
   },
   "source": [
    "## Outline\n",
    "\n",
    "(warning: spoilers)\n",
    "\n",
    "* Pure Python -> NumPy -> Pandas\n",
    "* Some cool visualizations\n",
    "* Step back to deep learning\n",
    "* A pinch of quantum"
   ]
  },
  {
   "cell_type": "markdown",
   "metadata": {
    "slideshow": {
     "slide_type": "notes"
    }
   },
   "source": [
    "I hope that you learn a tool or two, and how to approach "
   ]
  },
  {
   "cell_type": "markdown",
   "metadata": {
    "slideshow": {
     "slide_type": "slide"
    }
   },
   "source": [
    "## Pure Python\n",
    "\n",
    "Does Python have support for matrices?"
   ]
  },
  {
   "cell_type": "code",
   "execution_count": null,
   "metadata": {
    "ExecuteTime": {
     "end_time": "2020-07-28T17:14:15.007023Z",
     "start_time": "2020-07-28T17:14:15.003039Z"
    },
    "slideshow": {
     "slide_type": "fragment"
    }
   },
   "outputs": [],
   "source": [
    "lol = [[1., 3., -1., 0.5, 2., 0.], [4., 0., 2.5, -4., 2., 1.], [1., 1., -1., 2, 2., 0.]]"
   ]
  },
  {
   "cell_type": "markdown",
   "metadata": {},
   "source": [
    "`lol` stands for a list of lists. Nothing to laugh about."
   ]
  },
  {
   "cell_type": "code",
   "execution_count": null,
   "metadata": {
    "ExecuteTime": {
     "end_time": "2020-07-28T17:14:15.016343Z",
     "start_time": "2020-07-28T17:14:15.008924Z"
    },
    "slideshow": {
     "slide_type": "subslide"
    }
   },
   "outputs": [],
   "source": [
    "# element\n",
    "lol[1][3]"
   ]
  },
  {
   "cell_type": "code",
   "execution_count": null,
   "metadata": {
    "ExecuteTime": {
     "end_time": "2020-07-28T17:14:15.023067Z",
     "start_time": "2020-07-28T17:14:15.018560Z"
    }
   },
   "outputs": [],
   "source": [
    "# row\n",
    "lol[1]"
   ]
  },
  {
   "cell_type": "code",
   "execution_count": null,
   "metadata": {
    "ExecuteTime": {
     "end_time": "2020-07-28T17:14:15.029082Z",
     "start_time": "2020-07-28T17:14:15.025044Z"
    }
   },
   "outputs": [],
   "source": [
    "# column\n",
    "[row[2] for row in lol]"
   ]
  },
  {
   "cell_type": "markdown",
   "metadata": {
    "slideshow": {
     "slide_type": "subslide"
    }
   },
   "source": [
    "### So\n",
    "\n",
    "* You can use it\n",
    "* You shouldn't"
   ]
  },
  {
   "cell_type": "markdown",
   "metadata": {
    "slideshow": {
     "slide_type": "fragment"
    }
   },
   "source": [
    "### Because\n",
    "\n",
    "* Slow\n",
    "* No easy way for typical operations\n",
    "* No checks on numeric types...\n",
    "* Or even if it is a table or not"
   ]
  },
  {
   "cell_type": "markdown",
   "metadata": {
    "slideshow": {
     "slide_type": "slide"
    }
   },
   "source": [
    "## NumPy\n",
    "\n",
    "Or **the** numerics backbone for Python."
   ]
  },
  {
   "cell_type": "code",
   "execution_count": null,
   "metadata": {
    "ExecuteTime": {
     "end_time": "2020-07-28T17:14:15.036761Z",
     "start_time": "2020-07-28T17:14:15.032321Z"
    }
   },
   "outputs": [],
   "source": [
    "import numpy as np\n",
    "\n",
    "arr = np.array(lol)\n",
    "arr"
   ]
  },
  {
   "cell_type": "code",
   "execution_count": null,
   "metadata": {
    "ExecuteTime": {
     "end_time": "2020-07-28T17:14:15.042129Z",
     "start_time": "2020-07-28T17:14:15.039105Z"
    },
    "slideshow": {
     "slide_type": "subslide"
    }
   },
   "outputs": [],
   "source": [
    "# element\n",
    "arr[1,3]"
   ]
  },
  {
   "cell_type": "code",
   "execution_count": null,
   "metadata": {
    "ExecuteTime": {
     "end_time": "2020-07-28T17:14:15.047855Z",
     "start_time": "2020-07-28T17:14:15.043556Z"
    }
   },
   "outputs": [],
   "source": [
    "# row\n",
    "arr[1]"
   ]
  },
  {
   "cell_type": "code",
   "execution_count": null,
   "metadata": {
    "ExecuteTime": {
     "end_time": "2020-07-28T17:14:15.053203Z",
     "start_time": "2020-07-28T17:14:15.049448Z"
    }
   },
   "outputs": [],
   "source": [
    "# columns\n",
    "arr[:, 1]"
   ]
  },
  {
   "cell_type": "code",
   "execution_count": null,
   "metadata": {
    "ExecuteTime": {
     "end_time": "2020-07-28T17:14:15.058837Z",
     "start_time": "2020-07-28T17:14:15.054819Z"
    }
   },
   "outputs": [],
   "source": [
    "# operations\n",
    "arr[2] - arr[0]"
   ]
  },
  {
   "cell_type": "code",
   "execution_count": null,
   "metadata": {
    "ExecuteTime": {
     "end_time": "2020-07-28T17:14:15.063904Z",
     "start_time": "2020-07-28T17:14:15.060877Z"
    }
   },
   "outputs": [],
   "source": [
    "## type\n",
    "arr.dtype"
   ]
  },
  {
   "cell_type": "markdown",
   "metadata": {
    "slideshow": {
     "slide_type": "subslide"
    }
   },
   "source": [
    "### Good parts\n",
    "\n",
    "* Fast (don't ever believe \"but C++\")\n",
    "* A lot of numeric features (using `scipy`)"
   ]
  },
  {
   "cell_type": "markdown",
   "metadata": {
    "slideshow": {
     "slide_type": "fragment"
    }
   },
   "source": [
    "### But \n",
    "\n",
    "* What the hell the columns mean?!"
   ]
  },
  {
   "cell_type": "markdown",
   "metadata": {
    "slideshow": {
     "slide_type": "slide"
    }
   },
   "source": [
    "## Pandas\n",
    "\n",
    "(Note to oneself: resist any **pand**emia pun!)"
   ]
  },
  {
   "cell_type": "code",
   "execution_count": null,
   "metadata": {
    "ExecuteTime": {
     "end_time": "2020-07-28T17:14:15.079044Z",
     "start_time": "2020-07-28T17:14:15.066010Z"
    }
   },
   "outputs": [],
   "source": [
    "import pandas as pd\n",
    "\n",
    "df = pd.DataFrame(arr,\n",
    "                  index=['Sasha', 'Alex', 'Kim'],\n",
    "                  columns=['sweet', 'sour', 'salty', 'bitter', 'spicy', 'sugar'])\n",
    "df "
   ]
  },
  {
   "cell_type": "code",
   "execution_count": null,
   "metadata": {
    "ExecuteTime": {
     "end_time": "2020-07-28T17:14:15.085365Z",
     "start_time": "2020-07-28T17:14:15.081062Z"
    },
    "slideshow": {
     "slide_type": "subslide"
    }
   },
   "outputs": [],
   "source": [
    "df.loc['Alex', 'sweet']"
   ]
  },
  {
   "cell_type": "code",
   "execution_count": null,
   "metadata": {
    "ExecuteTime": {
     "end_time": "2020-07-28T17:14:15.093260Z",
     "start_time": "2020-07-28T17:14:15.087469Z"
    }
   },
   "outputs": [],
   "source": [
    "df.loc[:, 'sweet']"
   ]
  },
  {
   "cell_type": "markdown",
   "metadata": {
    "slideshow": {
     "slide_type": "slide"
    }
   },
   "source": [
    "### Do we need anything more?"
   ]
  },
  {
   "cell_type": "markdown",
   "metadata": {
    "slideshow": {
     "slide_type": "-"
    }
   },
   "source": [
    "Hint:\n",
    "\n",
    "> You think you own whatever data you loaded  \n",
    "The Matrix is just a dead thing you can claim  \n",
    "But I know every frame and row and column  \n",
    "Has a type, has an API, has a name  \n",
    "\n",
    "Answer:"
   ]
  },
  {
   "cell_type": "markdown",
   "metadata": {},
   "source": [
    "Colors!"
   ]
  },
  {
   "cell_type": "markdown",
   "metadata": {
    "slideshow": {
     "slide_type": "slide"
    }
   },
   "source": [
    "## Seaborn"
   ]
  },
  {
   "cell_type": "code",
   "execution_count": null,
   "metadata": {
    "ExecuteTime": {
     "end_time": "2020-07-28T22:01:48.780242Z",
     "start_time": "2020-07-28T22:01:45.717395Z"
    }
   },
   "outputs": [],
   "source": [
    "import seaborn as sns\n",
    "\n",
    "sns.heatmap(df, cmap='coolwarm')"
   ]
  },
  {
   "cell_type": "code",
   "execution_count": null,
   "metadata": {
    "ExecuteTime": {
     "end_time": "2020-07-28T22:02:54.835769Z",
     "start_time": "2020-07-28T22:02:54.628208Z"
    },
    "slideshow": {
     "slide_type": "subslide"
    }
   },
   "outputs": [],
   "source": [
    "sns.heatmap(df, cmap='coolwarm', annot=True)"
   ]
  },
  {
   "cell_type": "code",
   "execution_count": null,
   "metadata": {
    "ExecuteTime": {
     "end_time": "2020-07-28T22:11:36.502985Z",
     "start_time": "2020-07-28T22:11:36.123547Z"
    },
    "slideshow": {
     "slide_type": "subslide"
    }
   },
   "outputs": [],
   "source": [
    "sns.clustermap(df, cmap='coolwarm', annot=True)"
   ]
  },
  {
   "cell_type": "markdown",
   "metadata": {
    "slideshow": {
     "slide_type": "slide"
    }
   },
   "source": [
    "## Or even interactively\n",
    "\n",
    "Using [clustergrammer](https://clustergrammer.readthedocs.io/)"
   ]
  },
  {
   "cell_type": "code",
   "execution_count": null,
   "metadata": {
    "ExecuteTime": {
     "end_time": "2020-07-28T22:41:57.636283Z",
     "start_time": "2020-07-28T22:41:57.632918Z"
    },
    "scrolled": true
   },
   "outputs": [],
   "source": [
    "from clustergrammer2 import Network, CGM2\n",
    "\n",
    "n1 = Network(CGM2)\n",
    "n1.load_df(df)\n",
    "n1.widget()"
   ]
  },
  {
   "cell_type": "markdown",
   "metadata": {
    "slideshow": {
     "slide_type": "slide"
    }
   },
   "source": [
    "## So, we are done?\n",
    "\n"
   ]
  },
  {
   "attachments": {},
   "cell_type": "markdown",
   "metadata": {
    "slideshow": {
     "slide_type": "fragment"
    }
   },
   "source": [
    "<img src=\"imgs/tensor_chaos.png\" alt=\"Matrix rain of symbols\" style=\"width: 80%;\"/>"
   ]
  },
  {
   "cell_type": "markdown",
   "metadata": {
    "slideshow": {
     "slide_type": "subslide"
    }
   },
   "source": [
    "### OK, but do we actually need it?\n",
    "\n",
    "(except for some super-advanced physics)"
   ]
  },
  {
   "cell_type": "markdown",
   "metadata": {
    "slideshow": {
     "slide_type": "fragment"
    }
   },
   "source": [
    "Yes, for colors! RGB(A) channels.\n",
    "\n",
    "* width, height, channel"
   ]
  },
  {
   "cell_type": "markdown",
   "metadata": {
    "slideshow": {
     "slide_type": "fragment"
    }
   },
   "source": [
    "In deep learning, we process a few images at the same time:\n",
    "\n",
    "* sample, height, width, channel"
   ]
  },
  {
   "cell_type": "markdown",
   "metadata": {
    "slideshow": {
     "slide_type": "fragment"
    }
   },
   "source": [
    "* sample, channel, height, width\n",
    "* sample, channel, width, height\n",
    "* ???"
   ]
  },
  {
   "cell_type": "markdown",
   "metadata": {
    "slideshow": {
     "slide_type": "slide"
    }
   },
   "source": [
    "## So, let's memorize that!\n",
    "\n",
    "Well, for sure we can learn the order of dimensions."
   ]
  },
  {
   "cell_type": "markdown",
   "metadata": {
    "slideshow": {
     "slide_type": "subslide"
    }
   },
   "source": [
    "Ten see it:\n",
    "\n",
    "* OpenCV: `HWC` / `HW`\n",
    "* Pillow:  `HWC` / `HW`\n",
    "* Matplotlib: `HWC` / `HW`\n",
    "* Theano: `NCHW`\n",
    "* TensorFlow: `NHWC`\n",
    "* PyTorch: `NCHW`"
   ]
  },
  {
   "cell_type": "markdown",
   "metadata": {
    "slideshow": {
     "slide_type": "slide"
    }
   },
   "source": [
    "## Tensors in PyTorch\n",
    "\n",
    "Full disclaimer: I love PyTorch."
   ]
  },
  {
   "cell_type": "code",
   "execution_count": null,
   "metadata": {
    "slideshow": {
     "slide_type": "-"
    }
   },
   "outputs": [],
   "source": [
    "import torch\n",
    "\n",
    "x = torch.tensor([\n",
    "    [[1., 0., 1.],\n",
    "     [0., 1., 0.],\n",
    "     [1., 0., 1.]],\n",
    "    [[0., 1., 0.],\n",
    "     [1., 1., 1.],\n",
    "     [0., 1., 0.]],\n",
    "    [[1., 1., 1.],\n",
    "     [1., 0., 1.],\n",
    "     [1., 1., 1.]],\n",
    "])"
   ]
  },
  {
   "cell_type": "code",
   "execution_count": null,
   "metadata": {
    "slideshow": {
     "slide_type": "subslide"
    }
   },
   "outputs": [],
   "source": [
    "x"
   ]
  },
  {
   "cell_type": "code",
   "execution_count": null,
   "metadata": {
    "slideshow": {
     "slide_type": "subslide"
    }
   },
   "outputs": [],
   "source": [
    "x.size()"
   ]
  },
  {
   "cell_type": "code",
   "execution_count": null,
   "metadata": {
    "slideshow": {
     "slide_type": "fragment"
    }
   },
   "outputs": [],
   "source": [
    "x.mean(0)"
   ]
  },
  {
   "cell_type": "markdown",
   "metadata": {
    "slideshow": {
     "slide_type": "slide"
    }
   },
   "source": [
    "## Named tensors\n",
    "\n",
    "Starting from PyTorch 1.4.0, there is support for dimension names in tensors.\n",
    "However, still at PyTorch 1.6.0 it is an experimental feature."
   ]
  },
  {
   "cell_type": "code",
   "execution_count": null,
   "metadata": {
    "slideshow": {
     "slide_type": "slide"
    }
   },
   "outputs": [],
   "source": [
    "x = x.rename('C', 'H', 'W')\n",
    "x"
   ]
  },
  {
   "cell_type": "code",
   "execution_count": null,
   "metadata": {
    "slideshow": {
     "slide_type": "subslide"
    }
   },
   "outputs": [],
   "source": [
    "x.mean('C')"
   ]
  },
  {
   "cell_type": "code",
   "execution_count": null,
   "metadata": {
    "slideshow": {
     "slide_type": "fragment"
    }
   },
   "outputs": [],
   "source": [
    "x.mean(('H', 'W'))"
   ]
  },
  {
   "cell_type": "code",
   "execution_count": null,
   "metadata": {
    "slideshow": {
     "slide_type": "fragment"
    }
   },
   "outputs": [],
   "source": [
    "x.transpose('H', 'W')"
   ]
  },
  {
   "cell_type": "markdown",
   "metadata": {
    "slideshow": {
     "slide_type": "slide"
    }
   },
   "source": [
    "## Awesome! Let's use the names in neural networks!"
   ]
  },
  {
   "cell_type": "code",
   "execution_count": null,
   "metadata": {
    "slideshow": {
     "slide_type": "-"
    }
   },
   "outputs": [],
   "source": [
    "x_input =  torch.rand((4, 4), names=('N', 'C'))\n",
    "x_input"
   ]
  },
  {
   "cell_type": "code",
   "execution_count": null,
   "metadata": {
    "slideshow": {
     "slide_type": "fragment"
    }
   },
   "outputs": [],
   "source": [
    "from torch import nn\n",
    "fc = nn.Linear(in_features=4, out_features=2)\n",
    "fc(x_input)"
   ]
  },
  {
   "cell_type": "markdown",
   "metadata": {
    "slideshow": {
     "slide_type": "subslide"
    }
   },
   "source": [
    "And it gets worse."
   ]
  },
  {
   "cell_type": "code",
   "execution_count": null,
   "metadata": {},
   "outputs": [],
   "source": [
    "x_input_2d =  torch.rand((4, 3, 4, 4), names=('N', 'C', 'H', 'W'))\n",
    "conv = nn.Conv2d(in_channels=3, out_channels=2, kernel_size=3)\n",
    "conv(x_input_2d)"
   ]
  },
  {
   "cell_type": "markdown",
   "metadata": {
    "slideshow": {
     "slide_type": "subslide"
    }
   },
   "source": [
    "> RuntimeError: aten::mkldnn_convolution is not yet supported with named tensors. Please drop names via `tensor = tensor.rename(None)`, call the op with an unnamed tensor, and set names on the result of the operation.\n",
    "            \n",
    "My response: :(\n",
    "\n",
    "Also: what, there is an instruction how to solve it!"
   ]
  },
  {
   "cell_type": "markdown",
   "metadata": {
    "slideshow": {
     "slide_type": "slide"
    }
   },
   "source": [
    "## Named neural networks\n",
    "\n",
    "A very experimental package: [github.com/stared/pytorch-named-dims](https://github.com/stared/pytorch-named-dims)!\n",
    "\n",
    "By Bartłomiej Olechno and me, from ECC Games.\n",
    "\n",
    "\n",
    "`pip install git+git://github.com/stared/pytorch-named-dims.git`"
   ]
  },
  {
   "cell_type": "code",
   "execution_count": null,
   "metadata": {
    "slideshow": {
     "slide_type": "subslide"
    }
   },
   "outputs": [],
   "source": [
    "import torch\n",
    "from torch import nn\n",
    "from pytorch_named_dims import nm\n",
    "\n",
    "convs = nn.Sequential(\n",
    "    nm.Conv2d(3, 5, kernel_size=3, padding=1),\n",
    "    nn.ReLU(),  # preserves dims on its own\n",
    "    nm.MaxPool2d(2, 2),\n",
    "    nm.Conv2d(5, 2, kernel_size=3, padding=1)\n",
    ")"
   ]
  },
  {
   "cell_type": "code",
   "execution_count": null,
   "metadata": {
    "slideshow": {
     "slide_type": "fragment"
    }
   },
   "outputs": [],
   "source": [
    "x = torch.rand((2, 3, 2, 2), names=('N', 'C', 'H', 'W'))\n",
    "convs(x)"
   ]
  },
  {
   "cell_type": "code",
   "execution_count": null,
   "metadata": {
    "slideshow": {
     "slide_type": "fragment"
    }
   },
   "outputs": [],
   "source": [
    "x = torch.rand((2, 3, 2, 2), names=('N', 'C', 'W', 'H'))\n",
    "convs(x)"
   ]
  },
  {
   "cell_type": "markdown",
   "metadata": {
    "slideshow": {
     "slide_type": "subslide"
    }
   },
   "source": [
    "Still, it is not orthodox. "
   ]
  },
  {
   "cell_type": "code",
   "execution_count": null,
   "metadata": {},
   "outputs": [],
   "source": [
    "x = torch.rand((2, 3, 2, 2), names=('N', 'C', None, None))\n",
    "convs(x)"
   ]
  },
  {
   "cell_type": "markdown",
   "metadata": {},
   "source": [
    "## Ideas\n",
    "\n",
    "* show averaging\n",
    "* more code\n",
    "* basis RGB\n",
    "* QuTiP\n",
    "* BraKetVue\n",
    "* outro"
   ]
  },
  {
   "cell_type": "markdown",
   "metadata": {
    "slideshow": {
     "slide_type": "slide"
    }
   },
   "source": [
    "## Thanks!  Спасибо!\n",
    "\n",
    "* \n",
    "* training neural networks? use [livelossplot](https://github.com/stared/livelossplot/) (over 1)\n",
    "* tensors in JavaScript and their vis: [github.com/Quantum-Game](https://github.com/Quantum-Game)\n",
    "* interactive slides created with [Jupyter Notebook & RISE](https://github.com/damianavila/RISE)"
   ]
  },
  {
   "cell_type": "code",
   "execution_count": null,
   "metadata": {},
   "outputs": [],
   "source": [
    "swap_RG = torch.tensor([\n",
    "    [0., 1., 0.],\n",
    "    [1., 0., 0.],\n",
    "    [0., 0., 1.]\n",
    "], names=('C', 'C'))"
   ]
  }
 ],
 "metadata": {
  "celltoolbar": "Slideshow",
  "kernelspec": {
   "display_name": "Python 3",
   "language": "python",
   "name": "python3"
  },
  "language_info": {
   "codemirror_mode": {
    "name": "ipython",
    "version": 3
   },
   "file_extension": ".py",
   "mimetype": "text/x-python",
   "name": "python",
   "nbconvert_exporter": "python",
   "pygments_lexer": "ipython3",
   "version": "3.7.6"
  }
 },
 "nbformat": 4,
 "nbformat_minor": 4
}
