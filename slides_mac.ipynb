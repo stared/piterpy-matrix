{
 "cells": [
  {
   "cell_type": "markdown",
   "metadata": {
    "slideshow": {
     "slide_type": "slide"
    }
   },
   "source": [
    "# Matrices and tensors - named, visualized\n",
    "\n",
    "* [PiterPy Online, 3-6 Aug 2020](https://piterpy.com/en)\n",
    "* Piotr Migdał, founder at [Quantum Flytrap](https://quantumgame.io/) / AI resercher at ECC Games\n",
    "    * [p.migdal.pl](https://p.migdal.pl/), Twitter: [@pmigdal](https://twitter.com/pmigdal), [github.com/stared](https://github.com/stared)\n",
    "* [talk link](https://piterpy.com/en/materials/2831#2831), [talk code]()\n",
    "* interactive slides created with [Jupyter Notebook & RISE](https://github.com/damianavila/RISE)"
   ]
  },
  {
   "cell_type": "markdown",
   "metadata": {
    "slideshow": {
     "slide_type": "notes"
    }
   },
   "source": [
    "## Abstract\n",
    "\n",
    "In data science, we often work with numeric arrays: for signals, images, accounting data - input, output, everything. When we use Pandas (vs raw NumPy) we have named dimensions (rows and columns) plus an easy way to plot the numerical values.\n",
    "In this talk, I will show how to go beyond that - how to name dimensions in 3 and more dimensional arrays for deep learning (with Named Tensors in PyTorch), how to visualize advanced operations in a simple way (using tensor diagrams) and how to plot complex numbers (for quantum computing).\n",
    "I will give examples from two open-source projects I develop: https://github.com/Quantum-Game/bra-ket-vue and https://github.com/stared/pytorch-named-dims.\n",
    "\n",
    "## Bio\n",
    "\n",
    "Piotr Migdal\n",
    "\n",
    "A deep learning specialist with a Ph.D. in quantum physics (from ICFO, Castelldefels).\n",
    "He works on AI for content design and physics engine optimization in ECC Games, and develops Quantum Game with Photons - an open-source in-browser game with real quantum mechanics.\n",
    "Piotr enjoys explaining complicated things in simple ways, ideally with interactive data visualizations. He develops livelossplot - a Python package for visualizing the training process in Jupyter Notebook."
   ]
  },
  {
   "cell_type": "code",
   "execution_count": 1,
   "metadata": {
    "ExecuteTime": {
     "end_time": "2020-07-28T17:14:15.001153Z",
     "start_time": "2020-07-28T17:14:14.467848Z"
    }
   },
   "outputs": [
    {
     "name": "stdout",
     "output_type": "stream",
     "text": [
      "1.18.1\n",
      "1.0.1\n"
     ]
    }
   ],
   "source": [
    "import numpy\n",
    "import pandas\n",
    "print(numpy.__version__)\n",
    "print(pandas.__version__)"
   ]
  },
  {
   "cell_type": "markdown",
   "metadata": {
    "slideshow": {
     "slide_type": "slide"
    }
   },
   "source": [
    "## What is the matrix?"
   ]
  },
  {
   "cell_type": "markdown",
   "metadata": {
    "slideshow": {
     "slide_type": "fragment"
    }
   },
   "source": [
    "> *“The Matrix is everywhere. It's all around us,”* he explains to Neo.\n",
    "\n",
    "<img src=\"imgs/matrix_rain_2.png\" alt=\"Matrix rain of symbols\" style=\"width: 80%;\"/>"
   ]
  },
  {
   "cell_type": "markdown",
   "metadata": {
    "slideshow": {
     "slide_type": "fragment"
    }
   },
   "source": [
    "* In plain English?\n",
    "* Well, it is a table with numbers."
   ]
  },
  {
   "cell_type": "markdown",
   "metadata": {
    "slideshow": {
     "slide_type": "slide"
    }
   },
   "source": [
    "## Outline\n",
    "\n",
    "(warning: spoilers)\n",
    "\n",
    "* Pure Python -> NumPy -> Pandas\n",
    "* Some cool visualizations\n",
    "* Step back to deep learning\n",
    "* A pinch of quantum"
   ]
  },
  {
   "cell_type": "markdown",
   "metadata": {
    "slideshow": {
     "slide_type": "notes"
    }
   },
   "source": [
    "I hope that you learn a tool or two, and how to approach "
   ]
  },
  {
   "cell_type": "markdown",
   "metadata": {
    "slideshow": {
     "slide_type": "slide"
    }
   },
   "source": [
    "## Pure Python\n",
    "\n",
    "Does Python have support for matrices?"
   ]
  },
  {
   "cell_type": "code",
   "execution_count": 2,
   "metadata": {
    "ExecuteTime": {
     "end_time": "2020-07-28T17:14:15.007023Z",
     "start_time": "2020-07-28T17:14:15.003039Z"
    },
    "slideshow": {
     "slide_type": "fragment"
    }
   },
   "outputs": [],
   "source": [
    "lol = [[1., 3., -1., 0.5, 2., 0.], [4., 0., 2.5, -4., 2., 1.], [1., 1., -1., 2, 2., 0.]]"
   ]
  },
  {
   "cell_type": "markdown",
   "metadata": {},
   "source": [
    "`lol` stands for a list of lists. Nothing to laugh about."
   ]
  },
  {
   "cell_type": "code",
   "execution_count": 3,
   "metadata": {
    "ExecuteTime": {
     "end_time": "2020-07-28T17:14:15.016343Z",
     "start_time": "2020-07-28T17:14:15.008924Z"
    },
    "slideshow": {
     "slide_type": "subslide"
    }
   },
   "outputs": [
    {
     "data": {
      "text/plain": [
       "-4.0"
      ]
     },
     "execution_count": 3,
     "metadata": {},
     "output_type": "execute_result"
    }
   ],
   "source": [
    "# element\n",
    "lol[1][3]"
   ]
  },
  {
   "cell_type": "code",
   "execution_count": 4,
   "metadata": {
    "ExecuteTime": {
     "end_time": "2020-07-28T17:14:15.023067Z",
     "start_time": "2020-07-28T17:14:15.018560Z"
    }
   },
   "outputs": [
    {
     "data": {
      "text/plain": [
       "[4.0, 0.0, 2.5, -4.0, 2.0, 1.0]"
      ]
     },
     "execution_count": 4,
     "metadata": {},
     "output_type": "execute_result"
    }
   ],
   "source": [
    "# row\n",
    "lol[1]"
   ]
  },
  {
   "cell_type": "code",
   "execution_count": 5,
   "metadata": {
    "ExecuteTime": {
     "end_time": "2020-07-28T17:14:15.029082Z",
     "start_time": "2020-07-28T17:14:15.025044Z"
    }
   },
   "outputs": [
    {
     "data": {
      "text/plain": [
       "[-1.0, 2.5, -1.0]"
      ]
     },
     "execution_count": 5,
     "metadata": {},
     "output_type": "execute_result"
    }
   ],
   "source": [
    "# column\n",
    "[row[2] for row in lol]"
   ]
  },
  {
   "cell_type": "markdown",
   "metadata": {
    "slideshow": {
     "slide_type": "subslide"
    }
   },
   "source": [
    "### So\n",
    "\n",
    "* You can use it\n",
    "* You shouldn't"
   ]
  },
  {
   "cell_type": "markdown",
   "metadata": {
    "slideshow": {
     "slide_type": "fragment"
    }
   },
   "source": [
    "### Because\n",
    "\n",
    "* Slow\n",
    "* No easy way for typical operations\n",
    "* No checks on numeric types...\n",
    "* Or even if it is a table or not"
   ]
  },
  {
   "cell_type": "markdown",
   "metadata": {
    "slideshow": {
     "slide_type": "slide"
    }
   },
   "source": [
    "## NumPy\n",
    "\n",
    "Or **the** numerics backbone for Python."
   ]
  },
  {
   "cell_type": "code",
   "execution_count": 6,
   "metadata": {
    "ExecuteTime": {
     "end_time": "2020-07-28T17:14:15.036761Z",
     "start_time": "2020-07-28T17:14:15.032321Z"
    }
   },
   "outputs": [
    {
     "data": {
      "text/plain": [
       "array([[ 1. ,  3. , -1. ,  0.5,  2. ,  0. ],\n",
       "       [ 4. ,  0. ,  2.5, -4. ,  2. ,  1. ],\n",
       "       [ 1. ,  1. , -1. ,  2. ,  2. ,  0. ]])"
      ]
     },
     "execution_count": 6,
     "metadata": {},
     "output_type": "execute_result"
    }
   ],
   "source": [
    "import numpy as np\n",
    "\n",
    "arr = np.array(lol)\n",
    "arr"
   ]
  },
  {
   "cell_type": "code",
   "execution_count": 7,
   "metadata": {
    "ExecuteTime": {
     "end_time": "2020-07-28T17:14:15.042129Z",
     "start_time": "2020-07-28T17:14:15.039105Z"
    },
    "slideshow": {
     "slide_type": "subslide"
    }
   },
   "outputs": [
    {
     "data": {
      "text/plain": [
       "-4.0"
      ]
     },
     "execution_count": 7,
     "metadata": {},
     "output_type": "execute_result"
    }
   ],
   "source": [
    "# element\n",
    "arr[1,3]"
   ]
  },
  {
   "cell_type": "code",
   "execution_count": 8,
   "metadata": {
    "ExecuteTime": {
     "end_time": "2020-07-28T17:14:15.047855Z",
     "start_time": "2020-07-28T17:14:15.043556Z"
    }
   },
   "outputs": [
    {
     "data": {
      "text/plain": [
       "array([ 4. ,  0. ,  2.5, -4. ,  2. ,  1. ])"
      ]
     },
     "execution_count": 8,
     "metadata": {},
     "output_type": "execute_result"
    }
   ],
   "source": [
    "# row\n",
    "arr[1]"
   ]
  },
  {
   "cell_type": "code",
   "execution_count": 9,
   "metadata": {
    "ExecuteTime": {
     "end_time": "2020-07-28T17:14:15.053203Z",
     "start_time": "2020-07-28T17:14:15.049448Z"
    }
   },
   "outputs": [
    {
     "data": {
      "text/plain": [
       "array([3., 0., 1.])"
      ]
     },
     "execution_count": 9,
     "metadata": {},
     "output_type": "execute_result"
    }
   ],
   "source": [
    "# columns\n",
    "arr[:, 1]"
   ]
  },
  {
   "cell_type": "code",
   "execution_count": 10,
   "metadata": {
    "ExecuteTime": {
     "end_time": "2020-07-28T17:14:15.058837Z",
     "start_time": "2020-07-28T17:14:15.054819Z"
    }
   },
   "outputs": [
    {
     "data": {
      "text/plain": [
       "array([ 0. , -2. ,  0. ,  1.5,  0. ,  0. ])"
      ]
     },
     "execution_count": 10,
     "metadata": {},
     "output_type": "execute_result"
    }
   ],
   "source": [
    "# operations\n",
    "arr[2] - arr[0]"
   ]
  },
  {
   "cell_type": "code",
   "execution_count": 11,
   "metadata": {
    "ExecuteTime": {
     "end_time": "2020-07-28T17:14:15.063904Z",
     "start_time": "2020-07-28T17:14:15.060877Z"
    }
   },
   "outputs": [
    {
     "data": {
      "text/plain": [
       "dtype('float64')"
      ]
     },
     "execution_count": 11,
     "metadata": {},
     "output_type": "execute_result"
    }
   ],
   "source": [
    "## type\n",
    "arr.dtype"
   ]
  },
  {
   "cell_type": "markdown",
   "metadata": {
    "slideshow": {
     "slide_type": "subslide"
    }
   },
   "source": [
    "### Good parts\n",
    "\n",
    "* Fast (don't ever believe \"but C++\")\n",
    "* A lot of numeric features (using `scipy`)"
   ]
  },
  {
   "cell_type": "markdown",
   "metadata": {
    "slideshow": {
     "slide_type": "fragment"
    }
   },
   "source": [
    "### But \n",
    "\n",
    "* What the hell the columns mean?!"
   ]
  },
  {
   "cell_type": "markdown",
   "metadata": {
    "slideshow": {
     "slide_type": "slide"
    }
   },
   "source": [
    "## Pandas\n",
    "\n",
    "(Note to oneself: resist any **pand**emia pun!)"
   ]
  },
  {
   "cell_type": "code",
   "execution_count": 12,
   "metadata": {
    "ExecuteTime": {
     "end_time": "2020-07-28T17:14:15.079044Z",
     "start_time": "2020-07-28T17:14:15.066010Z"
    }
   },
   "outputs": [
    {
     "data": {
      "text/html": [
       "<div>\n",
       "<style scoped>\n",
       "    .dataframe tbody tr th:only-of-type {\n",
       "        vertical-align: middle;\n",
       "    }\n",
       "\n",
       "    .dataframe tbody tr th {\n",
       "        vertical-align: top;\n",
       "    }\n",
       "\n",
       "    .dataframe thead th {\n",
       "        text-align: right;\n",
       "    }\n",
       "</style>\n",
       "<table border=\"1\" class=\"dataframe\">\n",
       "  <thead>\n",
       "    <tr style=\"text-align: right;\">\n",
       "      <th></th>\n",
       "      <th>sweet</th>\n",
       "      <th>sour</th>\n",
       "      <th>salty</th>\n",
       "      <th>bitter</th>\n",
       "      <th>spicy</th>\n",
       "      <th>sugar</th>\n",
       "    </tr>\n",
       "  </thead>\n",
       "  <tbody>\n",
       "    <tr>\n",
       "      <th>Sasha</th>\n",
       "      <td>1.0</td>\n",
       "      <td>3.0</td>\n",
       "      <td>-1.0</td>\n",
       "      <td>0.5</td>\n",
       "      <td>2.0</td>\n",
       "      <td>0.0</td>\n",
       "    </tr>\n",
       "    <tr>\n",
       "      <th>Alex</th>\n",
       "      <td>4.0</td>\n",
       "      <td>0.0</td>\n",
       "      <td>2.5</td>\n",
       "      <td>-4.0</td>\n",
       "      <td>2.0</td>\n",
       "      <td>1.0</td>\n",
       "    </tr>\n",
       "    <tr>\n",
       "      <th>Kim</th>\n",
       "      <td>1.0</td>\n",
       "      <td>1.0</td>\n",
       "      <td>-1.0</td>\n",
       "      <td>2.0</td>\n",
       "      <td>2.0</td>\n",
       "      <td>0.0</td>\n",
       "    </tr>\n",
       "  </tbody>\n",
       "</table>\n",
       "</div>"
      ],
      "text/plain": [
       "       sweet  sour  salty  bitter  spicy  sugar\n",
       "Sasha    1.0   3.0   -1.0     0.5    2.0    0.0\n",
       "Alex     4.0   0.0    2.5    -4.0    2.0    1.0\n",
       "Kim      1.0   1.0   -1.0     2.0    2.0    0.0"
      ]
     },
     "execution_count": 12,
     "metadata": {},
     "output_type": "execute_result"
    }
   ],
   "source": [
    "import pandas as pd\n",
    "\n",
    "df = pd.DataFrame(arr,\n",
    "                  index=['Sasha', 'Alex', 'Kim'],\n",
    "                  columns=['sweet', 'sour', 'salty', 'bitter', 'spicy', 'sugar'])\n",
    "df "
   ]
  },
  {
   "cell_type": "code",
   "execution_count": 13,
   "metadata": {
    "ExecuteTime": {
     "end_time": "2020-07-28T17:14:15.085365Z",
     "start_time": "2020-07-28T17:14:15.081062Z"
    },
    "slideshow": {
     "slide_type": "subslide"
    }
   },
   "outputs": [
    {
     "data": {
      "text/plain": [
       "4.0"
      ]
     },
     "execution_count": 13,
     "metadata": {},
     "output_type": "execute_result"
    }
   ],
   "source": [
    "df.loc['Alex', 'sweet']"
   ]
  },
  {
   "cell_type": "code",
   "execution_count": 14,
   "metadata": {
    "ExecuteTime": {
     "end_time": "2020-07-28T17:14:15.093260Z",
     "start_time": "2020-07-28T17:14:15.087469Z"
    }
   },
   "outputs": [
    {
     "data": {
      "text/plain": [
       "Sasha    1.0\n",
       "Alex     4.0\n",
       "Kim      1.0\n",
       "Name: sweet, dtype: float64"
      ]
     },
     "execution_count": 14,
     "metadata": {},
     "output_type": "execute_result"
    }
   ],
   "source": [
    "df.loc[:, 'sweet']"
   ]
  },
  {
   "cell_type": "markdown",
   "metadata": {
    "slideshow": {
     "slide_type": "slide"
    }
   },
   "source": [
    "### Do we need anything more?"
   ]
  },
  {
   "cell_type": "markdown",
   "metadata": {
    "slideshow": {
     "slide_type": "-"
    }
   },
   "source": [
    "Hint:\n",
    "\n",
    "> You think you own whatever data you loaded  \n",
    "The Matrix is just a dead thing you can claim  \n",
    "But I know every frame and row and column  \n",
    "Has a type, has an API, has a name  \n",
    "\n",
    "Answer:"
   ]
  },
  {
   "cell_type": "markdown",
   "metadata": {},
   "source": [
    "Colors!"
   ]
  },
  {
   "cell_type": "markdown",
   "metadata": {
    "slideshow": {
     "slide_type": "slide"
    }
   },
   "source": [
    "## S"
   ]
  }
 ],
 "metadata": {
  "celltoolbar": "Slideshow",
  "kernelspec": {
   "display_name": "Python 3",
   "language": "python",
   "name": "python3"
  },
  "language_info": {
   "codemirror_mode": {
    "name": "ipython",
    "version": 3
   },
   "file_extension": ".py",
   "mimetype": "text/x-python",
   "name": "python",
   "nbconvert_exporter": "python",
   "pygments_lexer": "ipython3",
   "version": "3.7.6"
  }
 },
 "nbformat": 4,
 "nbformat_minor": 4
}
